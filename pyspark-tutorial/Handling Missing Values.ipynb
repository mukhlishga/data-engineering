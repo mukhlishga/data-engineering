{
 "cells": [
  {
   "cell_type": "code",
   "execution_count": 1,
   "id": "1ba528c3",
   "metadata": {},
   "outputs": [],
   "source": [
    "import pyspark\n",
    "from pyspark.sql import SparkSession"
   ]
  },
  {
   "cell_type": "code",
   "execution_count": 2,
   "id": "4b44a6f3",
   "metadata": {},
   "outputs": [
    {
     "name": "stderr",
     "output_type": "stream",
     "text": [
      "22/03/09 16:29:26 WARN Utils: Your hostname, VirtualBox resolves to a loopback address: 127.0.1.1; using 10.0.2.15 instead (on interface enp0s3)\n",
      "22/03/09 16:29:26 WARN Utils: Set SPARK_LOCAL_IP if you need to bind to another address\n",
      "WARNING: An illegal reflective access operation has occurred\n",
      "WARNING: Illegal reflective access by org.apache.spark.unsafe.Platform (file:/home/mukhlishga/spark-3.2.1-bin-hadoop3.2/jars/spark-unsafe_2.12-3.2.1.jar) to constructor java.nio.DirectByteBuffer(long,int)\n",
      "WARNING: Please consider reporting this to the maintainers of org.apache.spark.unsafe.Platform\n",
      "WARNING: Use --illegal-access=warn to enable warnings of further illegal reflective access operations\n",
      "WARNING: All illegal access operations will be denied in a future release\n",
      "Using Spark's default log4j profile: org/apache/spark/log4j-defaults.properties\n",
      "Setting default log level to \"WARN\".\n",
      "To adjust logging level use sc.setLogLevel(newLevel). For SparkR, use setLogLevel(newLevel).\n",
      "22/03/09 16:29:27 WARN NativeCodeLoader: Unable to load native-hadoop library for your platform... using builtin-java classes where applicable\n"
     ]
    }
   ],
   "source": [
    "spark = SparkSession.builder.appName('Practice').getOrCreate()"
   ]
  },
  {
   "cell_type": "code",
   "execution_count": 3,
   "id": "2c670586",
   "metadata": {},
   "outputs": [
    {
     "name": "stderr",
     "output_type": "stream",
     "text": [
      "                                                                                \r"
     ]
    },
    {
     "name": "stdout",
     "output_type": "stream",
     "text": [
      "+-----+----+----------+------+\n",
      "| Name| Age|Experience|Salary|\n",
      "+-----+----+----------+------+\n",
      "| Agus|  31|        10| 30000|\n",
      "| Budi|  30|         8| 25000|\n",
      "|Cecep|  29|         4| 20000|\n",
      "| Dede|  24|         3| 20000|\n",
      "| Fani|  21|         1| 15000|\n",
      "| Gaga|  23|         2| 18000|\n",
      "| Heri|null|      null| 40000|\n",
      "| null|  34|        10| 38000|\n",
      "| null|  36|      null|  null|\n",
      "+-----+----+----------+------+\n",
      "\n"
     ]
    }
   ],
   "source": [
    "df_pyspark = spark.read.csv('test1.csv', header=True,inferSchema=True)\n",
    "df_pyspark.show()"
   ]
  },
  {
   "cell_type": "code",
   "execution_count": 4,
   "id": "8a78cfe8",
   "metadata": {},
   "outputs": [
    {
     "name": "stdout",
     "output_type": "stream",
     "text": [
      "+-----+---+----------+------+\n",
      "| Name|Age|Experience|Salary|\n",
      "+-----+---+----------+------+\n",
      "| Agus| 31|        10| 30000|\n",
      "| Budi| 30|         8| 25000|\n",
      "|Cecep| 29|         4| 20000|\n",
      "| Dede| 24|         3| 20000|\n",
      "| Fani| 21|         1| 15000|\n",
      "| Gaga| 23|         2| 18000|\n",
      "+-----+---+----------+------+\n",
      "\n"
     ]
    }
   ],
   "source": [
    "# dropping any null valued row in data frame\n",
    "df_pyspark_not_null = df_pyspark.na.drop(how=\"any\")\n",
    "df_pyspark_not_null.show()"
   ]
  },
  {
   "cell_type": "code",
   "execution_count": 5,
   "id": "1130a6c3",
   "metadata": {},
   "outputs": [
    {
     "name": "stdout",
     "output_type": "stream",
     "text": [
      "+-----+----+----------+------+\n",
      "| Name| Age|Experience|Salary|\n",
      "+-----+----+----------+------+\n",
      "| Agus|  31|        10| 30000|\n",
      "| Budi|  30|         8| 25000|\n",
      "|Cecep|  29|         4| 20000|\n",
      "| Dede|  24|         3| 20000|\n",
      "| Fani|  21|         1| 15000|\n",
      "| Gaga|  23|         2| 18000|\n",
      "| Heri|null|      null| 40000|\n",
      "| null|  34|        10| 38000|\n",
      "+-----+----+----------+------+\n",
      "\n"
     ]
    }
   ],
   "source": [
    "# dropping rows with minimal 2 non-null value in data frame\n",
    "df_pyspark_threshold = df_pyspark.na.drop(how=\"any\", thresh=2)\n",
    "df_pyspark_threshold.show()"
   ]
  },
  {
   "cell_type": "code",
   "execution_count": 6,
   "id": "3dc8bcbf",
   "metadata": {},
   "outputs": [
    {
     "name": "stdout",
     "output_type": "stream",
     "text": [
      "+-----+---+----------+------+\n",
      "| Name|Age|Experience|Salary|\n",
      "+-----+---+----------+------+\n",
      "| Agus| 31|        10| 30000|\n",
      "| Budi| 30|         8| 25000|\n",
      "|Cecep| 29|         4| 20000|\n",
      "| Dede| 24|         3| 20000|\n",
      "| Fani| 21|         1| 15000|\n",
      "| Gaga| 23|         2| 18000|\n",
      "| null| 34|        10| 38000|\n",
      "+-----+---+----------+------+\n",
      "\n"
     ]
    }
   ],
   "source": [
    "# dropping any null valued row in a subset column in data frame\n",
    "df_pyspark_subset = df_pyspark.na.drop(how=\"any\", subset=['Experience'])\n",
    "df_pyspark_subset.show()"
   ]
  },
  {
   "cell_type": "code",
   "execution_count": 7,
   "id": "1d3755fa",
   "metadata": {},
   "outputs": [
    {
     "name": "stdout",
     "output_type": "stream",
     "text": [
      "+-----+----+----------+------+\n",
      "| Name| Age|Experience|Salary|\n",
      "+-----+----+----------+------+\n",
      "| Agus|  31|        10| 30000|\n",
      "| Budi|  30|         8| 25000|\n",
      "|Cecep|  29|         4| 20000|\n",
      "| Dede|  24|         3| 20000|\n",
      "| Fani|  21|         1| 15000|\n",
      "| Gaga|  23|         2| 18000|\n",
      "| Heri|null|      null| 40000|\n",
      "| null|  34|        10| 38000|\n",
      "| null|  36|      null|  null|\n",
      "+-----+----+----------+------+\n",
      "\n"
     ]
    }
   ],
   "source": [
    "# Filling null with something\n",
    "df_pyspark_missing_values = df_pyspark.na.fill('Missing Values', subset=['Experience', 'Age'])\n",
    "df_pyspark_missing_values.show()"
   ]
  },
  {
   "cell_type": "code",
   "execution_count": 8,
   "id": "645a2218",
   "metadata": {},
   "outputs": [
    {
     "name": "stdout",
     "output_type": "stream",
     "text": [
      "+-----+----+----------+------+-----------+------------------+--------------+\n",
      "| Name| Age|Experience|Salary|Age_imputed|Experience_imputed|Salary_imputed|\n",
      "+-----+----+----------+------+-----------+------------------+--------------+\n",
      "| Agus|  31|        10| 30000|         31|                10|         30000|\n",
      "| Budi|  30|         8| 25000|         30|                 8|         25000|\n",
      "|Cecep|  29|         4| 20000|         29|                 4|         20000|\n",
      "| Dede|  24|         3| 20000|         24|                 3|         20000|\n",
      "| Fani|  21|         1| 15000|         21|                 1|         15000|\n",
      "| Gaga|  23|         2| 18000|         23|                 2|         18000|\n",
      "| Heri|null|      null| 40000|         28|                 5|         40000|\n",
      "| null|  34|        10| 38000|         34|                10|         38000|\n",
      "| null|  36|      null|  null|         36|                 5|         25750|\n",
      "+-----+----+----------+------+-----------+------------------+--------------+\n",
      "\n"
     ]
    }
   ],
   "source": [
    "# Filling null with mean value\n",
    "\n",
    "from pyspark.ml.feature import Imputer\n",
    "\n",
    "imputer = Imputer(\n",
    "    inputCols=['Age', 'Experience', 'Salary'],\n",
    "    outputCols=[\"{}_imputed\".format(c) for c in ['Age', 'Experience', 'Salary']]\n",
    "    ).setStrategy(\"mean\")\n",
    "\n",
    "imputer.fit(df_pyspark).transform(df_pyspark).show()"
   ]
  },
  {
   "cell_type": "code",
   "execution_count": 9,
   "id": "01fdfcee",
   "metadata": {},
   "outputs": [],
   "source": [
    "spark.stop()"
   ]
  }
 ],
 "metadata": {
  "kernelspec": {
   "display_name": "Python 3 (ipykernel)",
   "language": "python",
   "name": "python3"
  },
  "language_info": {
   "codemirror_mode": {
    "name": "ipython",
    "version": 3
   },
   "file_extension": ".py",
   "mimetype": "text/x-python",
   "name": "python",
   "nbconvert_exporter": "python",
   "pygments_lexer": "ipython3",
   "version": "3.8.10"
  }
 },
 "nbformat": 4,
 "nbformat_minor": 5
}
